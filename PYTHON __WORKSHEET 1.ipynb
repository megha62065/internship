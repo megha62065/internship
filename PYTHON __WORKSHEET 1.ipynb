{
 "cells": [
  {
   "cell_type": "markdown",
   "id": "eef4d78e",
   "metadata": {},
   "source": [
    "# Q11 to Q15 are programming questions. Answer them in Jupyter Notebook.\n"
   ]
  },
  {
   "cell_type": "markdown",
   "id": "d399bbaf",
   "metadata": {},
   "source": [
    "# 11. Write a python program to find the factorial of a number.\n"
   ]
  },
  {
   "cell_type": "code",
   "execution_count": 1,
   "id": "eb91dc89",
   "metadata": {},
   "outputs": [
    {
     "name": "stdout",
     "output_type": "stream",
     "text": [
      "Enter a number: 6\n",
      "Factorial of 6 is: 720\n"
     ]
    }
   ],
   "source": [
    "num = int(input('Enter a number: ' ))\n",
    "\n",
    "factorial=1\n",
    "\n",
    "#To check if the number is negitive,positive or zero\n",
    "if num < 0:\n",
    "    print('Factorial cannot be found for negitive numbers')\n",
    "elif num == 0:\n",
    "    print('Factorial of 0 is 1')\n",
    "else: \n",
    "    for i in range(1,num+1):\n",
    "        factorial = factorial*i\n",
    "    print('Factorial of',num,'is:',factorial) \n",
    "    "
   ]
  },
  {
   "cell_type": "markdown",
   "id": "5a0f7f88",
   "metadata": {},
   "source": [
    "# 12. Write a python program to find whether a number is prime or composite.\n"
   ]
  },
  {
   "cell_type": "code",
   "execution_count": 1,
   "id": "2e42201e",
   "metadata": {},
   "outputs": [
    {
     "name": "stdout",
     "output_type": "stream",
     "text": [
      "Enter a number: 6\n",
      "6 is a composite number\n"
     ]
    }
   ],
   "source": [
    "num = int(input('Enter a number: ' ))\n",
    "#To check if the number is negitive,positive or zero\n",
    "if num < 1:\n",
    "    print('Number needs to be greater than 1')\n",
    "elif num == 1:\n",
    "    print(num, 'is nither prime number nor composite number')\n",
    "else:\n",
    "    for i in range(2,(num//2)+1):\n",
    "        if(num % i)==0:\n",
    "            print(num, 'is a composite number')\n",
    "            break\n",
    "    else:\n",
    "        print(num, 'is a prime number')\n"
   ]
  },
  {
   "cell_type": "markdown",
   "id": "92f87da5",
   "metadata": {},
   "source": [
    "# 13. Write a python program to check whether a given string is palindrome or not.\n"
   ]
  },
  {
   "cell_type": "code",
   "execution_count": 2,
   "id": "1296dbbd",
   "metadata": {},
   "outputs": [
    {
     "name": "stdout",
     "output_type": "stream",
     "text": [
      "Enter a word:teacher\n",
      "teacher : not a palindrome.\n"
     ]
    }
   ],
   "source": [
    "a = input('Enter a word:' )\n",
    "b = a[-1::-1] \n",
    "if(a == b):\n",
    "    print(a, ': is a palindrome.')\n",
    "else:\n",
    "    print(a, ': not a palindrome.')"
   ]
  },
  {
   "cell_type": "markdown",
   "id": "aa5ef732",
   "metadata": {},
   "source": [
    "# 14. Write a Python program to get the third side of right-angled triangle from two given sides.\n"
   ]
  },
  {
   "cell_type": "code",
   "execution_count": 2,
   "id": "dd57ab6f",
   "metadata": {},
   "outputs": [],
   "source": [
    "import math"
   ]
  },
  {
   "cell_type": "code",
   "execution_count": 3,
   "id": "7d6f285b",
   "metadata": {},
   "outputs": [
    {
     "name": "stdout",
     "output_type": "stream",
     "text": [
      "Enter base: 2\n",
      "Enter height: 3\n",
      "Enter angle: 5\n",
      "Hypotenuse = 3.605551275463989\n"
     ]
    }
   ],
   "source": [
    "a = float(input(\"Enter base: \"))\n",
    "b = float(input(\"Enter height: \"))\n",
    "x = float(input(\"Enter angle: \"))\n",
    "\n",
    "c = math.sqrt(a ** 2 + b ** 2)\n",
    "\n",
    "print(\"Hypotenuse =\", c)"
   ]
  },
  {
   "cell_type": "markdown",
   "id": "df352a2f",
   "metadata": {},
   "source": [
    "# 15. Write a python program to print the frequency of each of the characters present in a given string."
   ]
  },
  {
   "cell_type": "code",
   "execution_count": 1,
   "id": "6d888131",
   "metadata": {},
   "outputs": [
    {
     "name": "stdout",
     "output_type": "stream",
     "text": [
      "frequency of each character in 'PATNA' is :\n",
      " {'P': 1, 'A': 2, 'T': 1, 'N': 1}\n"
     ]
    }
   ],
   "source": [
    "input_string = \"PATNA\"\n",
    "frequencies = {} \n",
    "  \n",
    "for char in input_string: \n",
    "    if char in frequencies: \n",
    "        frequencies[char] += 1\n",
    "    else: \n",
    "        frequencies[char] = 1\n",
    "print (\"frequency of each character in '{}' is :\\n {}\".format(input_string, str(frequencies)))"
   ]
  }
 ],
 "metadata": {
  "kernelspec": {
   "display_name": "Python 3 (ipykernel)",
   "language": "python",
   "name": "python3"
  },
  "language_info": {
   "codemirror_mode": {
    "name": "ipython",
    "version": 3
   },
   "file_extension": ".py",
   "mimetype": "text/x-python",
   "name": "python",
   "nbconvert_exporter": "python",
   "pygments_lexer": "ipython3",
   "version": "3.9.12"
  }
 },
 "nbformat": 4,
 "nbformat_minor": 5
}
